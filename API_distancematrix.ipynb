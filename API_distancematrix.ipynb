{
  "nbformat": 4,
  "nbformat_minor": 0,
  "metadata": {
    "colab": {
      "provenance": [],
      "authorship_tag": "ABX9TyOE9/GDLKZ/CYcjIQkV41GT",
      "include_colab_link": true
    },
    "kernelspec": {
      "name": "python3",
      "display_name": "Python 3"
    },
    "language_info": {
      "name": "python"
    }
  },
  "cells": [
    {
      "cell_type": "markdown",
      "metadata": {
        "id": "view-in-github",
        "colab_type": "text"
      },
      "source": [
        "<a href=\"https://colab.research.google.com/github/zivK12/Assignment3_API/blob/main/Assignment3_API.ipynb\" target=\"_parent\"><img src=\"https://colab.research.google.com/assets/colab-badge.svg\" alt=\"Open In Colab\"/></a>"
      ]
    },
    {
      "cell_type": "markdown",
      "source": [
        "## Assignment3_API\n",
        "## Ziv Kelmer\n"
      ],
      "metadata": {
        "id": "_IcsCivrl5O2"
      }
    },
    {
      "cell_type": "code",
      "source": [
        "import pandas as pd\n",
        "from google.colab import drive\n",
        "drive.mount('/content/drive')\n",
        "import requests"
      ],
      "metadata": {
        "id": "rv9zPdkpl3hz"
      },
      "execution_count": null,
      "outputs": []
    },
    {
      "cell_type": "code",
      "source": [
        "path = '/content/drive/MyDrive/data/'\n",
        "fname = 'dests.txt'\n",
        "with open(path+fname, 'r') as file:\n",
        "  destinations = file.read().splitlines()\n",
        "api_key='API_KEY'"
      ],
      "metadata": {
        "id": "w0tpV4k8d9vH"
      },
      "execution_count": 3,
      "outputs": []
    },
    {
      "cell_type": "code",
      "source": [
        "def destination_info(destination, api_key):\n",
        "    base_url = 'https://maps.googleapis.com/maps/api'\n",
        "    distance_matrix_url = f'{base_url}/distancematrix/json'\n",
        "    geocode_url = f'{base_url}/geocode/json'\n",
        "\n",
        "    try:\n",
        "        params = {\n",
        "            'origins': 'Tel Aviv',\n",
        "            'destinations': destination,\n",
        "            'key': api_key\n",
        "        }\n",
        "        distance_data = requests.get(distance_matrix_url, params=params).json()\n",
        "        distance = distance_data['rows'][0]['elements'][0]['distance']['text']\n",
        "        duration = distance_data['rows'][0]['elements'][0]['duration']['text']\n",
        "\n",
        "\n",
        "        params = {\n",
        "            'address': destination,\n",
        "            'key': api_key\n",
        "        }\n",
        "        geocode_data = requests.get(geocode_url, params=params).json()\n",
        "        location = geocode_data['results'][0]['geometry']['location']\n",
        "        longitude = location['lng']\n",
        "        latitude = location['lat']\n",
        "\n",
        "        return distance, duration, longitude, latitude\n",
        "\n",
        "    except (requests.exceptions.RequestException, KeyError, IndexError):\n",
        "        return None, None, None, None\n",
        "\n",
        "data = {'Target': [], 'Distance_km': [], 'Duration': [], 'Longitude': [], 'Latitude': []}\n",
        "\n",
        "for destination in destinations:\n",
        "    distance, duration, longitude, latitude = destination_info(destination, api_key)\n",
        "    distance_km = distance.split()[0]  \n",
        "    data['Target'].append(destination)\n",
        "    data['Distance_km'].append(distance_km)\n",
        "    data['Duration'].append(duration)\n",
        "    data['Longitude'].append(longitude)\n",
        "    data['Latitude'].append(latitude)\n",
        "\n",
        "\n",
        "\n",
        "\n",
        "df = pd.DataFrame(data)\n",
        "df\n",
        "\n",
        "\n"
      ],
      "metadata": {
        "colab": {
          "base_uri": "https://localhost:8080/",
          "height": 206
        },
        "id": "nTlsW9alUXS_",
        "outputId": "aa3cd2d6-4485-40ff-c281-eb4069b663c0"
      },
      "execution_count": 12,
      "outputs": [
        {
          "output_type": "execute_result",
          "data": {
            "text/plain": [
              "      Target Distance_km          Duration  Longitude   Latitude\n",
              "0   Istanbul       1,815   21 hours 3 mins  28.978359  41.008238\n",
              "1  Amsterdam       4,533    2 days 0 hours   4.904139  52.367573\n",
              "2   Valletta       3,793    2 days 3 hours  14.514100  35.899237\n",
              "3      Basel       4,118    1 day 20 hours   7.588576  47.559599\n",
              "4       Doha       2,164  22 hours 39 mins  51.531040  25.285447"
            ],
            "text/html": [
              "\n",
              "  <div id=\"df-fcba8fbf-e4af-4d8e-a127-a83503c207da\">\n",
              "    <div class=\"colab-df-container\">\n",
              "      <div>\n",
              "<style scoped>\n",
              "    .dataframe tbody tr th:only-of-type {\n",
              "        vertical-align: middle;\n",
              "    }\n",
              "\n",
              "    .dataframe tbody tr th {\n",
              "        vertical-align: top;\n",
              "    }\n",
              "\n",
              "    .dataframe thead th {\n",
              "        text-align: right;\n",
              "    }\n",
              "</style>\n",
              "<table border=\"1\" class=\"dataframe\">\n",
              "  <thead>\n",
              "    <tr style=\"text-align: right;\">\n",
              "      <th></th>\n",
              "      <th>Target</th>\n",
              "      <th>Distance_km</th>\n",
              "      <th>Duration</th>\n",
              "      <th>Longitude</th>\n",
              "      <th>Latitude</th>\n",
              "    </tr>\n",
              "  </thead>\n",
              "  <tbody>\n",
              "    <tr>\n",
              "      <th>0</th>\n",
              "      <td>Istanbul</td>\n",
              "      <td>1,815</td>\n",
              "      <td>21 hours 3 mins</td>\n",
              "      <td>28.978359</td>\n",
              "      <td>41.008238</td>\n",
              "    </tr>\n",
              "    <tr>\n",
              "      <th>1</th>\n",
              "      <td>Amsterdam</td>\n",
              "      <td>4,533</td>\n",
              "      <td>2 days 0 hours</td>\n",
              "      <td>4.904139</td>\n",
              "      <td>52.367573</td>\n",
              "    </tr>\n",
              "    <tr>\n",
              "      <th>2</th>\n",
              "      <td>Valletta</td>\n",
              "      <td>3,793</td>\n",
              "      <td>2 days 3 hours</td>\n",
              "      <td>14.514100</td>\n",
              "      <td>35.899237</td>\n",
              "    </tr>\n",
              "    <tr>\n",
              "      <th>3</th>\n",
              "      <td>Basel</td>\n",
              "      <td>4,118</td>\n",
              "      <td>1 day 20 hours</td>\n",
              "      <td>7.588576</td>\n",
              "      <td>47.559599</td>\n",
              "    </tr>\n",
              "    <tr>\n",
              "      <th>4</th>\n",
              "      <td>Doha</td>\n",
              "      <td>2,164</td>\n",
              "      <td>22 hours 39 mins</td>\n",
              "      <td>51.531040</td>\n",
              "      <td>25.285447</td>\n",
              "    </tr>\n",
              "  </tbody>\n",
              "</table>\n",
              "</div>\n",
              "      <button class=\"colab-df-convert\" onclick=\"convertToInteractive('df-fcba8fbf-e4af-4d8e-a127-a83503c207da')\"\n",
              "              title=\"Convert this dataframe to an interactive table.\"\n",
              "              style=\"display:none;\">\n",
              "        \n",
              "  <svg xmlns=\"http://www.w3.org/2000/svg\" height=\"24px\"viewBox=\"0 0 24 24\"\n",
              "       width=\"24px\">\n",
              "    <path d=\"M0 0h24v24H0V0z\" fill=\"none\"/>\n",
              "    <path d=\"M18.56 5.44l.94 2.06.94-2.06 2.06-.94-2.06-.94-.94-2.06-.94 2.06-2.06.94zm-11 1L8.5 8.5l.94-2.06 2.06-.94-2.06-.94L8.5 2.5l-.94 2.06-2.06.94zm10 10l.94 2.06.94-2.06 2.06-.94-2.06-.94-.94-2.06-.94 2.06-2.06.94z\"/><path d=\"M17.41 7.96l-1.37-1.37c-.4-.4-.92-.59-1.43-.59-.52 0-1.04.2-1.43.59L10.3 9.45l-7.72 7.72c-.78.78-.78 2.05 0 2.83L4 21.41c.39.39.9.59 1.41.59.51 0 1.02-.2 1.41-.59l7.78-7.78 2.81-2.81c.8-.78.8-2.07 0-2.86zM5.41 20L4 18.59l7.72-7.72 1.47 1.35L5.41 20z\"/>\n",
              "  </svg>\n",
              "      </button>\n",
              "      \n",
              "  <style>\n",
              "    .colab-df-container {\n",
              "      display:flex;\n",
              "      flex-wrap:wrap;\n",
              "      gap: 12px;\n",
              "    }\n",
              "\n",
              "    .colab-df-convert {\n",
              "      background-color: #E8F0FE;\n",
              "      border: none;\n",
              "      border-radius: 50%;\n",
              "      cursor: pointer;\n",
              "      display: none;\n",
              "      fill: #1967D2;\n",
              "      height: 32px;\n",
              "      padding: 0 0 0 0;\n",
              "      width: 32px;\n",
              "    }\n",
              "\n",
              "    .colab-df-convert:hover {\n",
              "      background-color: #E2EBFA;\n",
              "      box-shadow: 0px 1px 2px rgba(60, 64, 67, 0.3), 0px 1px 3px 1px rgba(60, 64, 67, 0.15);\n",
              "      fill: #174EA6;\n",
              "    }\n",
              "\n",
              "    [theme=dark] .colab-df-convert {\n",
              "      background-color: #3B4455;\n",
              "      fill: #D2E3FC;\n",
              "    }\n",
              "\n",
              "    [theme=dark] .colab-df-convert:hover {\n",
              "      background-color: #434B5C;\n",
              "      box-shadow: 0px 1px 3px 1px rgba(0, 0, 0, 0.15);\n",
              "      filter: drop-shadow(0px 1px 2px rgba(0, 0, 0, 0.3));\n",
              "      fill: #FFFFFF;\n",
              "    }\n",
              "  </style>\n",
              "\n",
              "      <script>\n",
              "        const buttonEl =\n",
              "          document.querySelector('#df-fcba8fbf-e4af-4d8e-a127-a83503c207da button.colab-df-convert');\n",
              "        buttonEl.style.display =\n",
              "          google.colab.kernel.accessAllowed ? 'block' : 'none';\n",
              "\n",
              "        async function convertToInteractive(key) {\n",
              "          const element = document.querySelector('#df-fcba8fbf-e4af-4d8e-a127-a83503c207da');\n",
              "          const dataTable =\n",
              "            await google.colab.kernel.invokeFunction('convertToInteractive',\n",
              "                                                     [key], {});\n",
              "          if (!dataTable) return;\n",
              "\n",
              "          const docLinkHtml = 'Like what you see? Visit the ' +\n",
              "            '<a target=\"_blank\" href=https://colab.research.google.com/notebooks/data_table.ipynb>data table notebook</a>'\n",
              "            + ' to learn more about interactive tables.';\n",
              "          element.innerHTML = '';\n",
              "          dataTable['output_type'] = 'display_data';\n",
              "          await google.colab.output.renderOutput(dataTable, element);\n",
              "          const docLink = document.createElement('div');\n",
              "          docLink.innerHTML = docLinkHtml;\n",
              "          element.appendChild(docLink);\n",
              "        }\n",
              "      </script>\n",
              "    </div>\n",
              "  </div>\n",
              "  "
            ]
          },
          "metadata": {},
          "execution_count": 12
        }
      ]
    },
    {
      "cell_type": "code",
      "source": [
        "sorted_cities = df.sort_values('Distance_km', ascending=False)\n",
        "sorted_cities.reset_index(drop=True, inplace=True)\n",
        "furthest_cities = sorted_cities['Target'].head(3)\n",
        "furthest_cities\n"
      ],
      "metadata": {
        "colab": {
          "base_uri": "https://localhost:8080/"
        },
        "id": "Gy7OR6ysUd6X",
        "outputId": "c24dbeab-dcc0-416a-c6a4-29216b1e8e09"
      },
      "execution_count": 24,
      "outputs": [
        {
          "output_type": "execute_result",
          "data": {
            "text/plain": [
              "0    Amsterdam\n",
              "1        Basel\n",
              "2     Valletta\n",
              "Name: Target, dtype: object"
            ]
          },
          "metadata": {},
          "execution_count": 24
        }
      ]
    }
  ]
}
